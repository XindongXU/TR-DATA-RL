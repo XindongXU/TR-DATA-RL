{
 "cells": [
  {
   "cell_type": "code",
   "execution_count": null,
   "metadata": {},
   "outputs": [],
   "source": [
    "import numpy as np\n",
    "import matplotlib.pyplot as plt\n",
    "from pyjoystick.sdl2 import Key, Joystick, run_event_loop\n",
    "from pprint import pprint\n",
    "from threading import Thread\n",
    "import time\n",
    "import serial\n",
    "from sklearn import linear_model\n",
    "import cv2"
   ]
  },
  {
   "cell_type": "code",
   "execution_count": null,
   "metadata": {},
   "outputs": [],
   "source": [
    "cap = cv2.VideoCapture(0)\n",
    "# set blue thresh\n",
    "lower_green = np.array([35,70,60])\n",
    "upper_green = np.array([120,255,255])\n",
    "\n",
    "while True:\n",
    "    ret, frame = cap.read()\n",
    "    frame = cv2.resize(frame, None, fx = 1, fy = 1, interpolation = cv2.INTER_AREA)\n",
    "    cv2.imshow('frame', frame)\n",
    "\n",
    "    hsv = cv2.cvtColor(frame, cv2.COLOR_BGR2HSV)\n",
    "    mask = cv2.inRange(hsv, lower_green, upper_green)\n",
    "    # edges = cv2.Canny(mask, 100, 200)\n",
    "    cv2.imshow('green edges', mask)\n",
    "    if (cv2.waitKey(30) == 27):\n",
    "        break\n",
    "\n",
    "cap.release()\n",
    "cv2.destroyAllWindows()"
   ]
  },
  {
   "cell_type": "code",
   "execution_count": null,
   "metadata": {},
   "outputs": [],
   "source": [
    "edges = mask"
   ]
  },
  {
   "cell_type": "code",
   "execution_count": null,
   "metadata": {},
   "outputs": [],
   "source": [
    "greenpos0 = []\n",
    "greenpos1 = []\n",
    "for (index0,liste) in enumerate(edges):\n",
    "    for (index1,value) in enumerate(liste):\n",
    "        if value == 255:\n",
    "            greenpos0.append(index0)\n",
    "            greenpos1.append(index1)\n",
    "            # print(value)"
   ]
  },
  {
   "cell_type": "code",
   "execution_count": null,
   "metadata": {},
   "outputs": [],
   "source": [
    "plt.figure(figsize = (2.4, 3.2))\n",
    "plt.scatter(greenpos0, greenpos1, s = 1, marker = 'x')"
   ]
  },
  {
   "cell_type": "code",
   "execution_count": null,
   "metadata": {},
   "outputs": [],
   "source": [
    "plt.figure(figsize = (2.4, 3.2))\n",
    "plt.xlim((0, 480))\n",
    "plt.ylim((0, 640))\n",
    "plt.scatter(greenpos0, greenpos1, s = 1, marker = 'x')"
   ]
  },
  {
   "cell_type": "code",
   "execution_count": null,
   "metadata": {},
   "outputs": [],
   "source": [
    "ransac = linear_model.RANSACRegressor()\n",
    "ransac.fit(np.array(greenpos0).reshape(-1, 1), np.array(greenpos1).reshape(-1, 1))\n",
    "\n",
    "line_X = np.arange(min(greenpos0), max(greenpos0) + 1)[:, np.newaxis]\n",
    "line_y = ransac.predict(line_X)"
   ]
  },
  {
   "cell_type": "code",
   "execution_count": null,
   "metadata": {},
   "outputs": [],
   "source": [
    "inlier_mask = ransac.inlier_mask_"
   ]
  },
  {
   "cell_type": "code",
   "execution_count": null,
   "metadata": {},
   "outputs": [],
   "source": [
    "# plt.figure(figsize = (4.8, 6.4))\n",
    "# plt.xlim((0, 480))\n",
    "# plt.ylim((0, 640))\n",
    "plt.scatter(greenpos0, greenpos1, s = 1, marker = 'x')\n",
    "plt.plot(line_X, line_y, color='r')"
   ]
  },
  {
   "cell_type": "code",
   "execution_count": null,
   "metadata": {},
   "outputs": [],
   "source": [
    "plt.figure(figsize = (4.8, 6.4))\n",
    "plt.xlim((0, 480))\n",
    "plt.ylim((0, 640))\n",
    "plt.scatter(greenpos0, greenpos1, s = 1, marker = 'x')\n",
    "plt.plot(line_X, line_y, color='r')"
   ]
  },
  {
   "cell_type": "code",
   "execution_count": null,
   "metadata": {},
   "outputs": [],
   "source": [
    "inlier_mask = ransac.inlier_mask_"
   ]
  },
  {
   "cell_type": "code",
   "execution_count": null,
   "metadata": {},
   "outputs": [],
   "source": [
    "plt.figure(figsize = (2.4, 3.2))\n",
    "plt.xlim((0, 480))\n",
    "plt.ylim((0, 640))\n",
    "plt.scatter(np.array(greenpos0).reshape(-1, 1)[inlier_mask], np.array(greenpos1).reshape(-1, 1)[inlier_mask], s = 1, marker = 'x')"
   ]
  },
  {
   "cell_type": "code",
   "execution_count": null,
   "metadata": {},
   "outputs": [],
   "source": [
    "np.linalg.norm((np.array(greenpos0).reshape(-1, 1)[inlier_mask][-1,0], np.array(greenpos1).reshape(-1, 1)[inlier_mask][-1,0]))"
   ]
  },
  {
   "cell_type": "code",
   "execution_count": null,
   "metadata": {},
   "outputs": [],
   "source": [
    "np.linalg.norm((np.array(greenpos0).reshape(-1, 1)[inlier_mask][0,0], np.array(greenpos1).reshape(-1, 1)[inlier_mask][0,0]))"
   ]
  },
  {
   "cell_type": "code",
   "execution_count": null,
   "metadata": {},
   "outputs": [],
   "source": [
    "np.array(greenpos1).reshape(-1, 1)[inlier_mask][0,0]"
   ]
  },
  {
   "cell_type": "code",
   "execution_count": null,
   "metadata": {},
   "outputs": [],
   "source": [
    "Servo_t = [0, 29.85799098, 87.28123918, 49.99237628, 23.27381264], [54.25188891, 14.62139926, 51.21600907, 64.9204633, 113.30784031]\n",
    "\n",
    "A_t = [[-0.96566657, 0.49763318, 0.95705414, -0.62148105, -0.44530939], [0.90419815, -0.66050816, 0.60991016, 0.22840757, 0.80645628]]\n",
    "\n",
    "s_t = [[391, 402, 363, 365, 325], [360, 320, 441, 434, 471]]"
   ]
  },
  {
   "cell_type": "code",
   "execution_count": null,
   "metadata": {},
   "outputs": [],
   "source": [
    "plt.figure(figsize = (6, 8))\n",
    "plt.xlim((0, 480))\n",
    "plt.ylim((0, 640))\n",
    "plt.scatter(s_t[0], s_t[1], s = 20, marker = 'x')"
   ]
  },
  {
   "cell_type": "code",
   "execution_count": null,
   "metadata": {},
   "outputs": [],
   "source": [
    "plt.scatter(Servo_t[0], Servo_t[1], s = 20, marker = 'x')"
   ]
  },
  {
   "cell_type": "code",
   "execution_count": null,
   "metadata": {},
   "outputs": [],
   "source": [
    "plt.figure(figsize = (6, 8))\n",
    "plt.xlim((0, 480))\n",
    "plt.ylim((0, 640))\n",
    "plt.scatter(s_t[0], s_t[1], s = 20, marker = 'x')\n",
    "\n",
    "plt.figure(figsize = (8, 8))\n",
    "plt.xlim((0, 180))\n",
    "plt.ylim((0, 180))\n",
    "plt.scatter(Servo_t[0], Servo_t[1], s = 20, marker = 'x')\n",
    "plt.show()"
   ]
  },
  {
   "cell_type": "code",
   "execution_count": null,
   "metadata": {},
   "outputs": [],
   "source": [
    "import cv2\n",
    "import numpy as np\n",
    "\n",
    "cap = cv2.VideoCapture(0)\n",
    "ret, frame = cap.read()\n",
    "print(ret)\n",
    "if ret :\n",
    "    print(ret)\n",
    "    cv2.imwrite('./first_frame.jpg', frame)\n",
    "    # cv2.imshow('test', frame)\n",
    "\n",
    "# cap.release()\n",
    "# cv2.destroyAllWindows()"
   ]
  },
  {
   "attachments": {},
   "cell_type": "markdown",
   "metadata": {},
   "source": [
    "### Load data"
   ]
  },
  {
   "cell_type": "code",
   "execution_count": null,
   "metadata": {},
   "outputs": [],
   "source": [
    "import numpy as np\n",
    "import matplotlib.pyplot as plt"
   ]
  },
  {
   "cell_type": "code",
   "execution_count": null,
   "metadata": {},
   "outputs": [],
   "source": [
    "with open('./data.npy', 'rb') as f:\n",
    "    Servo_t = np.load(f)\n",
    "    A_t = np.load(f)\n",
    "    s_t = np.load(f)\n",
    "    \n",
    "print(np.shape(Servo_t), np.shape(A_t), np.shape(s_t))"
   ]
  },
  {
   "cell_type": "code",
   "execution_count": null,
   "metadata": {},
   "outputs": [],
   "source": [
    "s_t[0, 0], s_t[1, 0]"
   ]
  },
  {
   "cell_type": "code",
   "execution_count": null,
   "metadata": {},
   "outputs": [],
   "source": [
    "plt.figure(figsize = (6, 8))\n",
    "plt.xlim((0, 480))\n",
    "plt.ylim((0, 640))\n",
    "plt.title('green point position')\n",
    "# plt.plot(s_t[0], s_t[1])\n",
    "plt.scatter(s_t[0], s_t[1], s = 20, marker = 'x')\n",
    "\n",
    "plt.figure(figsize = (8, 8))\n",
    "plt.xlim((-0.1, 180.1))\n",
    "plt.ylim((-0.1, 180.1))\n",
    "# plt.plot(Servo_t[0], Servo_t[1])\n",
    "plt.title('Servo angle inputs')\n",
    "plt.scatter(Servo_t[0], Servo_t[1], s = 20, marker = 'x')\n",
    "plt.show()"
   ]
  },
  {
   "attachments": {},
   "cell_type": "markdown",
   "metadata": {},
   "source": [
    "### reward fonction"
   ]
  },
  {
   "cell_type": "code",
   "execution_count": null,
   "metadata": {},
   "outputs": [],
   "source": [
    "def reward(s_pos, target_pos):\n",
    "    # reward(s_t[:, 0], s_t[:, 1])\n",
    "    reward = np.linalg.norm(s_pos - target_pos)\n",
    "    return reward"
   ]
  },
  {
   "cell_type": "code",
   "execution_count": null,
   "metadata": {},
   "outputs": [],
   "source": [
    "min(s_t[0, :]), max(s_t[0, :]), min(s_t[1, :]), max(s_t[1, :])"
   ]
  },
  {
   "cell_type": "code",
   "execution_count": null,
   "metadata": {},
   "outputs": [],
   "source": [
    "s_t[:, 0]"
   ]
  },
  {
   "cell_type": "markdown",
   "metadata": {},
   "source": [
    "### reward figure"
   ]
  },
  {
   "cell_type": "code",
   "execution_count": null,
   "metadata": {},
   "outputs": [],
   "source": [
    "plt.plot(lis)\n",
    "episode = 10\n",
    "file_name = './img' + str(episode) + '.png'\n",
    "plt.savefig(file_name)\n",
    "plt.close()"
   ]
  },
  {
   "cell_type": "markdown",
   "metadata": {},
   "source": [
    "### tensorflow network"
   ]
  },
  {
   "cell_type": "code",
   "execution_count": null,
   "metadata": {},
   "outputs": [],
   "source": [
    "import numpy as np\n",
    "import matplotlib.pyplot as plt\n",
    "import time\n",
    "from sklearn import linear_model\n",
    "import cv2\n",
    "import tensorflow as tf\n",
    "import os\n",
    "os.environ['TF_CPP_MIN_LOG_LEVEL'] = '3'"
   ]
  },
  {
   "cell_type": "code",
   "execution_count": null,
   "metadata": {},
   "outputs": [],
   "source": [
    "import tensorflow as tf\n",
    "from sklearn import datasets\n",
    "import numpy as np\n",
    "import random\n",
    "\n",
    "x_train = datasets.load_iris().data\n",
    "y_train = datasets.load_iris().target\n",
    "\n",
    "np.random.seed(120)\n",
    "np.random.shuffle(x_train)\n",
    "np.random.seed(120)\n",
    "np.random.shuffle(y_train)\n",
    "\n",
    "tf.random.set_seed(120)"
   ]
  },
  {
   "cell_type": "code",
   "execution_count": null,
   "metadata": {},
   "outputs": [],
   "source": [
    "tf.shape(x_train), tf.shape(y_train)"
   ]
  },
  {
   "cell_type": "code",
   "execution_count": null,
   "metadata": {},
   "outputs": [],
   "source": [
    "x_train[0], y_train[0]"
   ]
  },
  {
   "cell_type": "code",
   "execution_count": null,
   "metadata": {},
   "outputs": [],
   "source": [
    "np.shape(x_train), np.shape(y_train)"
   ]
  },
  {
   "cell_type": "code",
   "execution_count": null,
   "metadata": {},
   "outputs": [],
   "source": [
    "# #第三步，models.Sequential()\n",
    "# model = tf.keras.models.Sequential([ #使用models.Sequential()来搭建神经网络\n",
    "#     tf.keras.layers.Dense(3, activation = \"softmax\", kernel_regularizer = tf.keras.regularizers.l2()) #全连接层，三个神经元，激活函数为softmax,使用l2正则化\n",
    "# ])"
   ]
  },
  {
   "cell_type": "code",
   "execution_count": null,
   "metadata": {},
   "outputs": [],
   "source": [
    "class irisModel(tf.keras.Model):\n",
    "    def __init__(self):\n",
    "        super(irisModel, self).__init__()\n",
    "        self.d1 = tf.keras.layers.Dense(3, activation=\"softmax\", kernel_regularizer=tf.keras.regularizers.l2()) #搭建网络块，这一层命名为d1\n",
    " \n",
    "    def call(self, x):\n",
    "        y = self.d1(x)\n",
    "        return  y\n",
    "\n",
    "model = irisModel()\n",
    "\n",
    "#第四步，model.compile()\n",
    "model.compile(  #使用model.compile()方法来配置训练方法\n",
    "    optimizer = tf.keras.optimizers.SGD(learning_rate = 0.1), #使用SGD优化器，学习率为0.1\n",
    "    loss = tf.keras.losses.SparseCategoricalCrossentropy(from_logits = False), #配置损失函数\n",
    "    metrics = ['sparse_categorical_accuracy'] #标注网络评价指标\n",
    ")\n",
    "os.environ['TF_CPP_MIN_LOG_LEVEL'] = '3'\n",
    "#第五步，model.fit()\n",
    "model.fit(  #使用model.fit()方法来执行训练过程，\n",
    "    x_train, y_train, #告知训练集的输入以及标签，\n",
    "    batch_size = 32, #每一批batch的大小为32，\n",
    "    epochs = 500, #迭代次数epochs为500\n",
    "    validation_split = 0.2, #从数据集中划分20%给测试集\n",
    "    validation_freq = 20 #测试的间隔次数为20,每迭代20次测试一次准确率\n",
    ")\n",
    "\n",
    "#第六步，model.summary()\n",
    "model.summary() #打印神经网络结构，统计参数数目"
   ]
  },
  {
   "cell_type": "markdown",
   "metadata": {},
   "source": [
    "### create dataset"
   ]
  },
  {
   "cell_type": "code",
   "execution_count": 1,
   "metadata": {},
   "outputs": [
    {
     "name": "stdout",
     "output_type": "stream",
     "text": [
      "(100, 4) (100, 4)\n"
     ]
    }
   ],
   "source": [
    "import numpy as np\n",
    "from DQ_Learning import DQNet\n",
    "import tensorflow as tf\n",
    "with open('/home/mig5/Desktop/TR_DATA_RL/minibatch.npy', 'rb') as f:\n",
    "    mini_batch = np.load(f, allow_pickle=True)\n",
    "    experience = np.load(f, allow_pickle=True)\n",
    "\n",
    "print(np.shape(mini_batch), np.shape(experience))"
   ]
  },
  {
   "cell_type": "code",
   "execution_count": 2,
   "metadata": {},
   "outputs": [],
   "source": [
    "DQL = DQNet()"
   ]
  },
  {
   "cell_type": "code",
   "execution_count": 3,
   "metadata": {},
   "outputs": [],
   "source": [
    "target_pos = np.array([400, 500])\n",
    "x_train, y_train = [], []\n",
    "minibatch = mini_batch\n",
    "minibatch[92][0] = np.array([405, 343])\n",
    "\n",
    "for (i, mini) in enumerate(minibatch):\n",
    "    value_ = DQL.get_best(mini[3], target_pos, get_action = True)\n",
    "    y_train.append(mini[2] + 0.99*value_)\n",
    "    x_train.append([mini[0][0], mini[0][1], target_pos[0], target_pos[1], mini[1]])\n",
    "\n",
    "DQL.compile(optimizer = tf.keras.optimizers.SGD(learning_rate = 0.1),\n",
    "            loss = tf.keras.losses.MeanAbsoluteError(),\n",
    "            metrics = 'mae')"
   ]
  },
  {
   "cell_type": "code",
   "execution_count": 6,
   "metadata": {},
   "outputs": [
    {
     "name": "stdout",
     "output_type": "stream",
     "text": [
      "Epoch 1/200\n",
      "2/2 [==============================] - 0s 5ms/step - loss: 28.5282 - mae: 28.5282\n",
      "Epoch 2/200\n",
      "2/2 [==============================] - 0s 4ms/step - loss: 28.3669 - mae: 28.3669\n",
      "Epoch 3/200\n",
      "2/2 [==============================] - 0s 3ms/step - loss: 28.2071 - mae: 28.2071\n",
      "Epoch 4/200\n",
      "2/2 [==============================] - 0s 4ms/step - loss: 28.0540 - mae: 28.0540\n",
      "Epoch 5/200\n",
      "2/2 [==============================] - 0s 5ms/step - loss: 27.9008 - mae: 27.9008\n",
      "Epoch 6/200\n",
      "2/2 [==============================] - 0s 4ms/step - loss: 27.7461 - mae: 27.7461\n",
      "Epoch 7/200\n",
      "2/2 [==============================] - 0s 6ms/step - loss: 27.5864 - mae: 27.5864\n",
      "Epoch 8/200\n",
      "2/2 [==============================] - 0s 4ms/step - loss: 27.4333 - mae: 27.4333\n",
      "Epoch 9/200\n",
      "2/2 [==============================] - 0s 5ms/step - loss: 27.2818 - mae: 27.2818\n",
      "Epoch 10/200\n",
      "2/2 [==============================] - 0s 8ms/step - loss: 27.1388 - mae: 27.1388\n",
      "Epoch 11/200\n",
      "2/2 [==============================] - 0s 7ms/step - loss: 26.9985 - mae: 26.9985\n",
      "Epoch 12/200\n",
      "2/2 [==============================] - 0s 4ms/step - loss: 26.8454 - mae: 26.8454\n",
      "Epoch 13/200\n",
      "2/2 [==============================] - 0s 5ms/step - loss: 26.6922 - mae: 26.6922\n",
      "Epoch 14/200\n",
      "2/2 [==============================] - 0s 4ms/step - loss: 26.5376 - mae: 26.5376\n",
      "Epoch 15/200\n",
      "2/2 [==============================] - 0s 4ms/step - loss: 26.3806 - mae: 26.3806\n",
      "Epoch 16/200\n",
      "2/2 [==============================] - 0s 5ms/step - loss: 26.2345 - mae: 26.2345\n",
      "Epoch 17/200\n",
      "2/2 [==============================] - 0s 5ms/step - loss: 26.0870 - mae: 26.0870\n",
      "Epoch 18/200\n",
      "2/2 [==============================] - 0s 4ms/step - loss: 25.9398 - mae: 25.9398\n",
      "Epoch 19/200\n",
      "2/2 [==============================] - 0s 6ms/step - loss: 25.8122 - mae: 25.8122\n",
      "Epoch 20/200\n",
      "2/2 [==============================] - 0s 90ms/step - loss: 25.6646 - mae: 25.6646 - val_loss: 28.7848 - val_mae: 28.7848\n",
      "Epoch 21/200\n",
      "2/2 [==============================] - 0s 4ms/step - loss: 25.5137 - mae: 25.5137\n",
      "Epoch 22/200\n",
      "2/2 [==============================] - 0s 6ms/step - loss: 25.3739 - mae: 25.3739\n",
      "Epoch 23/200\n",
      "2/2 [==============================] - 0s 6ms/step - loss: 25.2295 - mae: 25.2295\n",
      "Epoch 24/200\n",
      "2/2 [==============================] - 0s 9ms/step - loss: 25.0897 - mae: 25.0897\n",
      "Epoch 25/200\n",
      "2/2 [==============================] - 0s 5ms/step - loss: 24.9436 - mae: 24.9436\n",
      "Epoch 26/200\n",
      "2/2 [==============================] - 0s 4ms/step - loss: 24.7960 - mae: 24.7960\n",
      "Epoch 27/200\n",
      "2/2 [==============================] - 0s 5ms/step - loss: 24.6469 - mae: 24.6469\n",
      "Epoch 28/200\n",
      "2/2 [==============================] - 0s 6ms/step - loss: 24.5133 - mae: 24.5133\n",
      "Epoch 29/200\n",
      "2/2 [==============================] - 0s 6ms/step - loss: 24.3657 - mae: 24.3657\n",
      "Epoch 30/200\n",
      "2/2 [==============================] - 0s 4ms/step - loss: 24.2117 - mae: 24.2117\n",
      "Epoch 31/200\n",
      "2/2 [==============================] - 0s 4ms/step - loss: 24.0591 - mae: 24.0591\n",
      "Epoch 32/200\n",
      "2/2 [==============================] - 0s 4ms/step - loss: 23.9173 - mae: 23.9173\n",
      "Epoch 33/200\n",
      "2/2 [==============================] - 0s 5ms/step - loss: 23.7858 - mae: 23.7858\n",
      "Epoch 34/200\n",
      "2/2 [==============================] - 0s 6ms/step - loss: 23.6543 - mae: 23.6543\n",
      "Epoch 35/200\n",
      "2/2 [==============================] - 0s 5ms/step - loss: 23.5228 - mae: 23.5228\n",
      "Epoch 36/200\n",
      "2/2 [==============================] - 0s 6ms/step - loss: 23.3898 - mae: 23.3898\n",
      "Epoch 37/200\n",
      "2/2 [==============================] - 0s 6ms/step - loss: 23.2491 - mae: 23.2491\n",
      "Epoch 38/200\n",
      "2/2 [==============================] - 0s 5ms/step - loss: 23.1069 - mae: 23.1069\n",
      "Epoch 39/200\n",
      "2/2 [==============================] - 0s 4ms/step - loss: 22.9799 - mae: 22.9799\n",
      "Epoch 40/200\n",
      "2/2 [==============================] - 0s 31ms/step - loss: 22.8406 - mae: 22.8406 - val_loss: 25.5876 - val_mae: 25.5876\n",
      "Epoch 41/200\n",
      "2/2 [==============================] - 0s 5ms/step - loss: 22.7014 - mae: 22.7014\n",
      "Epoch 42/200\n",
      "2/2 [==============================] - 0s 5ms/step - loss: 22.5608 - mae: 22.5608\n",
      "Epoch 43/200\n",
      "2/2 [==============================] - 0s 4ms/step - loss: 22.4168 - mae: 22.4168\n",
      "Epoch 44/200\n",
      "2/2 [==============================] - 0s 4ms/step - loss: 22.2861 - mae: 22.2861\n",
      "Epoch 45/200\n",
      "2/2 [==============================] - 0s 5ms/step - loss: 22.1536 - mae: 22.1536\n",
      "Epoch 46/200\n",
      "2/2 [==============================] - 0s 5ms/step - loss: 22.0225 - mae: 22.0225\n",
      "Epoch 47/200\n",
      "2/2 [==============================] - 0s 5ms/step - loss: 21.8975 - mae: 21.8975\n",
      "Epoch 48/200\n",
      "2/2 [==============================] - 0s 3ms/step - loss: 21.7711 - mae: 21.7711\n",
      "Epoch 49/200\n",
      "2/2 [==============================] - 0s 4ms/step - loss: 21.6386 - mae: 21.6386\n",
      "Epoch 50/200\n",
      "2/2 [==============================] - 0s 4ms/step - loss: 21.5075 - mae: 21.5075\n",
      "Epoch 51/200\n",
      "2/2 [==============================] - 0s 5ms/step - loss: 21.3860 - mae: 21.3860\n",
      "Epoch 52/200\n",
      "2/2 [==============================] - 0s 6ms/step - loss: 21.2725 - mae: 21.2725\n",
      "Epoch 53/200\n",
      "2/2 [==============================] - 0s 6ms/step - loss: 21.1461 - mae: 21.1461\n",
      "Epoch 54/200\n",
      "2/2 [==============================] - 0s 4ms/step - loss: 21.0150 - mae: 21.0150\n",
      "Epoch 55/200\n",
      "2/2 [==============================] - 0s 5ms/step - loss: 20.8900 - mae: 20.8900\n",
      "Epoch 56/200\n",
      "2/2 [==============================] - 0s 4ms/step - loss: 20.7681 - mae: 20.7681\n",
      "Epoch 57/200\n",
      "2/2 [==============================] - 0s 4ms/step - loss: 20.6494 - mae: 20.6494\n",
      "Epoch 58/200\n",
      "2/2 [==============================] - 0s 5ms/step - loss: 20.5307 - mae: 20.5307\n",
      "Epoch 59/200\n",
      "2/2 [==============================] - 0s 6ms/step - loss: 20.4121 - mae: 20.4121\n",
      "Epoch 60/200\n",
      "2/2 [==============================] - 0s 31ms/step - loss: 20.2934 - mae: 20.2934 - val_loss: 22.8046 - val_mae: 22.8046\n",
      "Epoch 61/200\n",
      "2/2 [==============================] - 0s 3ms/step - loss: 20.1780 - mae: 20.1780\n",
      "Epoch 62/200\n",
      "2/2 [==============================] - 0s 5ms/step - loss: 20.0703 - mae: 20.0703\n",
      "Epoch 63/200\n",
      "2/2 [==============================] - 0s 4ms/step - loss: 19.9663 - mae: 19.9663\n",
      "Epoch 64/200\n",
      "2/2 [==============================] - 0s 6ms/step - loss: 19.8738 - mae: 19.8738\n",
      "Epoch 65/200\n",
      "2/2 [==============================] - 0s 6ms/step - loss: 19.7879 - mae: 19.7879\n",
      "Epoch 66/200\n",
      "2/2 [==============================] - 0s 5ms/step - loss: 19.7038 - mae: 19.7038\n",
      "Epoch 67/200\n",
      "2/2 [==============================] - 0s 4ms/step - loss: 19.6073 - mae: 19.6073\n",
      "Epoch 68/200\n",
      "2/2 [==============================] - 0s 4ms/step - loss: 19.5026 - mae: 19.5026\n",
      "Epoch 69/200\n",
      "2/2 [==============================] - 0s 4ms/step - loss: 19.4072 - mae: 19.4072\n",
      "Epoch 70/200\n",
      "2/2 [==============================] - 0s 4ms/step - loss: 19.3079 - mae: 19.3079\n",
      "Epoch 71/200\n",
      "2/2 [==============================] - 0s 8ms/step - loss: 19.2169 - mae: 19.2169\n",
      "Epoch 72/200\n",
      "2/2 [==============================] - 0s 6ms/step - loss: 19.1259 - mae: 19.1259\n",
      "Epoch 73/200\n",
      "2/2 [==============================] - 0s 4ms/step - loss: 19.0258 - mae: 19.0258\n",
      "Epoch 74/200\n",
      "2/2 [==============================] - 0s 4ms/step - loss: 18.9321 - mae: 18.9321\n",
      "Epoch 75/200\n",
      "2/2 [==============================] - 0s 4ms/step - loss: 18.8423 - mae: 18.8423\n",
      "Epoch 76/200\n",
      "2/2 [==============================] - 0s 8ms/step - loss: 18.7474 - mae: 18.7474\n",
      "Epoch 77/200\n",
      "2/2 [==============================] - 0s 5ms/step - loss: 18.6524 - mae: 18.6524\n",
      "Epoch 78/200\n",
      "2/2 [==============================] - 0s 7ms/step - loss: 18.5575 - mae: 18.5575\n",
      "Epoch 79/200\n",
      "2/2 [==============================] - 0s 5ms/step - loss: 18.4652 - mae: 18.4652\n",
      "Epoch 80/200\n",
      "2/2 [==============================] - 0s 34ms/step - loss: 18.3816 - mae: 18.3816 - val_loss: 20.6843 - val_mae: 20.6843\n",
      "Epoch 81/200\n",
      "2/2 [==============================] - 0s 7ms/step - loss: 18.2917 - mae: 18.2917\n",
      "Epoch 82/200\n",
      "2/2 [==============================] - 0s 7ms/step - loss: 18.1957 - mae: 18.1957\n",
      "Epoch 83/200\n",
      "2/2 [==============================] - 0s 5ms/step - loss: 18.0982 - mae: 18.0982\n",
      "Epoch 84/200\n",
      "2/2 [==============================] - 0s 4ms/step - loss: 18.0155 - mae: 18.0155\n",
      "Epoch 85/200\n",
      "2/2 [==============================] - 0s 17ms/step - loss: 17.9368 - mae: 17.9368\n",
      "Epoch 86/200\n",
      "2/2 [==============================] - 0s 9ms/step - loss: 17.8590 - mae: 17.8590\n",
      "Epoch 87/200\n",
      "2/2 [==============================] - 0s 7ms/step - loss: 17.7859 - mae: 17.7859\n",
      "Epoch 88/200\n",
      "2/2 [==============================] - 0s 7ms/step - loss: 17.7118 - mae: 17.7118\n",
      "Epoch 89/200\n",
      "2/2 [==============================] - 0s 5ms/step - loss: 17.6322 - mae: 17.6322\n",
      "Epoch 90/200\n",
      "2/2 [==============================] - 0s 5ms/step - loss: 17.5497 - mae: 17.5497\n",
      "Epoch 91/200\n",
      "2/2 [==============================] - 0s 13ms/step - loss: 17.4777 - mae: 17.4777\n",
      "Epoch 92/200\n",
      "2/2 [==============================] - 0s 7ms/step - loss: 17.4122 - mae: 17.4122\n",
      "Epoch 93/200\n",
      "2/2 [==============================] - 0s 5ms/step - loss: 17.3482 - mae: 17.3482\n",
      "Epoch 94/200\n",
      "2/2 [==============================] - 0s 6ms/step - loss: 17.2800 - mae: 17.2800\n",
      "Epoch 95/200\n",
      "2/2 [==============================] - 0s 5ms/step - loss: 17.2117 - mae: 17.2117\n",
      "Epoch 96/200\n",
      "2/2 [==============================] - 0s 6ms/step - loss: 17.1457 - mae: 17.1457\n",
      "Epoch 97/200\n",
      "2/2 [==============================] - 0s 5ms/step - loss: 17.0850 - mae: 17.0850\n",
      "Epoch 98/200\n",
      "2/2 [==============================] - 0s 6ms/step - loss: 17.0113 - mae: 17.0113\n",
      "Epoch 99/200\n",
      "2/2 [==============================] - 0s 5ms/step - loss: 16.9409 - mae: 16.9409\n",
      "Epoch 100/200\n",
      "2/2 [==============================] - 0s 33ms/step - loss: 16.8822 - mae: 16.8822 - val_loss: 18.9706 - val_mae: 18.9706\n",
      "Epoch 101/200\n",
      "2/2 [==============================] - 0s 5ms/step - loss: 16.8233 - mae: 16.8233\n",
      "Epoch 102/200\n",
      "2/2 [==============================] - 0s 5ms/step - loss: 16.7678 - mae: 16.7678\n",
      "Epoch 103/200\n",
      "2/2 [==============================] - 0s 5ms/step - loss: 16.7052 - mae: 16.7052\n",
      "Epoch 104/200\n",
      "2/2 [==============================] - 0s 6ms/step - loss: 16.6479 - mae: 16.6479\n",
      "Epoch 105/200\n",
      "2/2 [==============================] - 0s 6ms/step - loss: 16.5909 - mae: 16.5909\n",
      "Epoch 106/200\n",
      "2/2 [==============================] - 0s 6ms/step - loss: 16.5196 - mae: 16.5196\n",
      "Epoch 107/200\n",
      "2/2 [==============================] - 0s 7ms/step - loss: 16.4601 - mae: 16.4601\n",
      "Epoch 108/200\n",
      "2/2 [==============================] - 0s 5ms/step - loss: 16.3987 - mae: 16.3987\n",
      "Epoch 109/200\n",
      "2/2 [==============================] - 0s 5ms/step - loss: 16.3449 - mae: 16.3449\n",
      "Epoch 110/200\n",
      "2/2 [==============================] - 0s 4ms/step - loss: 16.3022 - mae: 16.3022\n",
      "Epoch 111/200\n",
      "2/2 [==============================] - 0s 6ms/step - loss: 16.2659 - mae: 16.2659\n",
      "Epoch 112/200\n",
      "2/2 [==============================] - 0s 5ms/step - loss: 16.2221 - mae: 16.2221\n",
      "Epoch 113/200\n",
      "2/2 [==============================] - 0s 5ms/step - loss: 16.1883 - mae: 16.1883\n",
      "Epoch 114/200\n",
      "2/2 [==============================] - 0s 5ms/step - loss: 16.1557 - mae: 16.1557\n",
      "Epoch 115/200\n",
      "2/2 [==============================] - 0s 4ms/step - loss: 16.1240 - mae: 16.1240\n",
      "Epoch 116/200\n",
      "2/2 [==============================] - 0s 4ms/step - loss: 16.0860 - mae: 16.0860\n",
      "Epoch 117/200\n",
      "2/2 [==============================] - 0s 6ms/step - loss: 16.0491 - mae: 16.0491\n",
      "Epoch 118/200\n",
      "2/2 [==============================] - 0s 4ms/step - loss: 16.0135 - mae: 16.0135\n",
      "Epoch 119/200\n",
      "2/2 [==============================] - 0s 4ms/step - loss: 15.9706 - mae: 15.9706\n",
      "Epoch 120/200\n",
      "2/2 [==============================] - 0s 48ms/step - loss: 15.9279 - mae: 15.9279 - val_loss: 17.9495 - val_mae: 17.9495\n",
      "Epoch 121/200\n",
      "2/2 [==============================] - 0s 4ms/step - loss: 15.8953 - mae: 15.8953\n",
      "Epoch 122/200\n",
      "2/2 [==============================] - 0s 5ms/step - loss: 15.8540 - mae: 15.8540\n",
      "Epoch 123/200\n",
      "2/2 [==============================] - 0s 7ms/step - loss: 15.8152 - mae: 15.8152\n",
      "Epoch 124/200\n",
      "2/2 [==============================] - 0s 6ms/step - loss: 15.7749 - mae: 15.7749\n",
      "Epoch 125/200\n",
      "2/2 [==============================] - 0s 4ms/step - loss: 15.7411 - mae: 15.7411\n",
      "Epoch 126/200\n",
      "2/2 [==============================] - 0s 5ms/step - loss: 15.7064 - mae: 15.7064\n",
      "Epoch 127/200\n",
      "2/2 [==============================] - 0s 4ms/step - loss: 15.6675 - mae: 15.6675\n",
      "Epoch 128/200\n",
      "2/2 [==============================] - 0s 4ms/step - loss: 15.6272 - mae: 15.6272\n",
      "Epoch 129/200\n",
      "2/2 [==============================] - 0s 5ms/step - loss: 15.5925 - mae: 15.5925\n",
      "Epoch 130/200\n",
      "2/2 [==============================] - 0s 5ms/step - loss: 15.5536 - mae: 15.5536\n",
      "Epoch 131/200\n",
      "2/2 [==============================] - 0s 6ms/step - loss: 15.5107 - mae: 15.5107\n",
      "Epoch 132/200\n",
      "2/2 [==============================] - 0s 8ms/step - loss: 15.4694 - mae: 15.4694\n",
      "Epoch 133/200\n",
      "2/2 [==============================] - 0s 4ms/step - loss: 15.4409 - mae: 15.4409\n",
      "Epoch 134/200\n",
      "2/2 [==============================] - 0s 4ms/step - loss: 15.4082 - mae: 15.4082\n",
      "Epoch 135/200\n",
      "2/2 [==============================] - 0s 9ms/step - loss: 15.3817 - mae: 15.3817\n",
      "Epoch 136/200\n",
      "2/2 [==============================] - 0s 5ms/step - loss: 15.3476 - mae: 15.3476\n",
      "Epoch 137/200\n",
      "2/2 [==============================] - 0s 4ms/step - loss: 15.3223 - mae: 15.3223\n",
      "Epoch 138/200\n",
      "2/2 [==============================] - 0s 6ms/step - loss: 15.3036 - mae: 15.3036\n",
      "Epoch 139/200\n",
      "2/2 [==============================] - 0s 5ms/step - loss: 15.2808 - mae: 15.2808\n",
      "Epoch 140/200\n",
      "2/2 [==============================] - 0s 36ms/step - loss: 15.2521 - mae: 15.2521 - val_loss: 17.1510 - val_mae: 17.1510\n",
      "Epoch 141/200\n",
      "2/2 [==============================] - 0s 5ms/step - loss: 15.2211 - mae: 15.2211\n",
      "Epoch 142/200\n",
      "2/2 [==============================] - 0s 8ms/step - loss: 15.1947 - mae: 15.1947\n",
      "Epoch 143/200\n",
      "2/2 [==============================] - 0s 6ms/step - loss: 15.1718 - mae: 15.1718\n",
      "Epoch 144/200\n",
      "2/2 [==============================] - 0s 5ms/step - loss: 15.1426 - mae: 15.1426\n",
      "Epoch 145/200\n",
      "2/2 [==============================] - 0s 4ms/step - loss: 15.1093 - mae: 15.1093\n",
      "Epoch 146/200\n",
      "2/2 [==============================] - 0s 19ms/step - loss: 15.0833 - mae: 15.0833\n",
      "Epoch 147/200\n",
      "2/2 [==============================] - 0s 6ms/step - loss: 15.0530 - mae: 15.0530\n",
      "Epoch 148/200\n",
      "2/2 [==============================] - 0s 7ms/step - loss: 15.0280 - mae: 15.0280\n",
      "Epoch 149/200\n",
      "2/2 [==============================] - 0s 6ms/step - loss: 15.0057 - mae: 15.0057\n",
      "Epoch 150/200\n",
      "2/2 [==============================] - 0s 4ms/step - loss: 14.9848 - mae: 14.9848\n",
      "Epoch 151/200\n",
      "2/2 [==============================] - 0s 7ms/step - loss: 14.9663 - mae: 14.9663\n",
      "Epoch 152/200\n",
      "2/2 [==============================] - 0s 9ms/step - loss: 14.9382 - mae: 14.9382\n",
      "Epoch 153/200\n",
      "2/2 [==============================] - 0s 9ms/step - loss: 14.9133 - mae: 14.9133\n",
      "Epoch 154/200\n",
      "2/2 [==============================] - 0s 9ms/step - loss: 14.8905 - mae: 14.8905\n",
      "Epoch 155/200\n",
      "2/2 [==============================] - 0s 4ms/step - loss: 14.8662 - mae: 14.8662\n",
      "Epoch 156/200\n",
      "2/2 [==============================] - 0s 4ms/step - loss: 14.8462 - mae: 14.8462\n",
      "Epoch 157/200\n",
      "2/2 [==============================] - 0s 11ms/step - loss: 14.8230 - mae: 14.8230\n",
      "Epoch 158/200\n",
      "2/2 [==============================] - 0s 7ms/step - loss: 14.7938 - mae: 14.7938\n",
      "Epoch 159/200\n",
      "2/2 [==============================] - 0s 13ms/step - loss: 14.7754 - mae: 14.7754\n",
      "Epoch 160/200\n",
      "2/2 [==============================] - 0s 65ms/step - loss: 14.7470 - mae: 14.7470 - val_loss: 16.4136 - val_mae: 16.4136\n",
      "Epoch 161/200\n",
      "2/2 [==============================] - 0s 4ms/step - loss: 14.7229 - mae: 14.7229\n",
      "Epoch 162/200\n",
      "2/2 [==============================] - 0s 4ms/step - loss: 14.7048 - mae: 14.7048\n",
      "Epoch 163/200\n",
      "2/2 [==============================] - 0s 5ms/step - loss: 14.6794 - mae: 14.6794\n",
      "Epoch 164/200\n",
      "2/2 [==============================] - 0s 4ms/step - loss: 14.6520 - mae: 14.6520\n",
      "Epoch 165/200\n",
      "2/2 [==============================] - 0s 4ms/step - loss: 14.6329 - mae: 14.6329\n",
      "Epoch 166/200\n",
      "2/2 [==============================] - 0s 6ms/step - loss: 14.6150 - mae: 14.6150\n",
      "Epoch 167/200\n",
      "2/2 [==============================] - 0s 5ms/step - loss: 14.5950 - mae: 14.5950\n",
      "Epoch 168/200\n",
      "2/2 [==============================] - 0s 5ms/step - loss: 14.5829 - mae: 14.5829\n",
      "Epoch 169/200\n",
      "2/2 [==============================] - 0s 8ms/step - loss: 14.5689 - mae: 14.5689\n",
      "Epoch 170/200\n",
      "2/2 [==============================] - 0s 6ms/step - loss: 14.5536 - mae: 14.5536\n",
      "Epoch 171/200\n",
      "2/2 [==============================] - 0s 13ms/step - loss: 14.5339 - mae: 14.5339\n",
      "Epoch 172/200\n",
      "2/2 [==============================] - 0s 5ms/step - loss: 14.5147 - mae: 14.5147\n",
      "Epoch 173/200\n",
      "2/2 [==============================] - 0s 5ms/step - loss: 14.4973 - mae: 14.4973\n",
      "Epoch 174/200\n",
      "2/2 [==============================] - 0s 3ms/step - loss: 14.4789 - mae: 14.4789\n",
      "Epoch 175/200\n",
      "2/2 [==============================] - 0s 16ms/step - loss: 14.4636 - mae: 14.4636\n",
      "Epoch 176/200\n",
      "2/2 [==============================] - 0s 10ms/step - loss: 14.4460 - mae: 14.4460\n",
      "Epoch 177/200\n",
      "2/2 [==============================] - 0s 5ms/step - loss: 14.4379 - mae: 14.4379\n",
      "Epoch 178/200\n",
      "2/2 [==============================] - 0s 5ms/step - loss: 14.4304 - mae: 14.4304\n",
      "Epoch 179/200\n",
      "2/2 [==============================] - 0s 5ms/step - loss: 14.4172 - mae: 14.4172\n",
      "Epoch 180/200\n",
      "2/2 [==============================] - 0s 34ms/step - loss: 14.4112 - mae: 14.4112 - val_loss: 15.8432 - val_mae: 15.8432\n",
      "Epoch 181/200\n",
      "2/2 [==============================] - 0s 7ms/step - loss: 14.4023 - mae: 14.4023\n",
      "Epoch 182/200\n",
      "2/2 [==============================] - 0s 6ms/step - loss: 14.3928 - mae: 14.3928\n",
      "Epoch 183/200\n",
      "2/2 [==============================] - 0s 4ms/step - loss: 14.3869 - mae: 14.3869\n",
      "Epoch 184/200\n",
      "2/2 [==============================] - 0s 5ms/step - loss: 14.3781 - mae: 14.3781\n",
      "Epoch 185/200\n",
      "2/2 [==============================] - 0s 4ms/step - loss: 14.3698 - mae: 14.3698\n",
      "Epoch 186/200\n",
      "2/2 [==============================] - 0s 7ms/step - loss: 14.3625 - mae: 14.3625\n",
      "Epoch 187/200\n",
      "2/2 [==============================] - 0s 6ms/step - loss: 14.3534 - mae: 14.3534\n",
      "Epoch 188/200\n",
      "2/2 [==============================] - 0s 4ms/step - loss: 14.3422 - mae: 14.3422\n",
      "Epoch 189/200\n",
      "2/2 [==============================] - 0s 6ms/step - loss: 14.3362 - mae: 14.3362\n",
      "Epoch 190/200\n",
      "2/2 [==============================] - 0s 5ms/step - loss: 14.3279 - mae: 14.3279\n",
      "Epoch 191/200\n",
      "2/2 [==============================] - 0s 5ms/step - loss: 14.3223 - mae: 14.3223\n",
      "Epoch 192/200\n",
      "2/2 [==============================] - 0s 5ms/step - loss: 14.3172 - mae: 14.3172\n",
      "Epoch 193/200\n",
      "2/2 [==============================] - 0s 5ms/step - loss: 14.3054 - mae: 14.3054\n",
      "Epoch 194/200\n",
      "2/2 [==============================] - 0s 4ms/step - loss: 14.2985 - mae: 14.2985\n",
      "Epoch 195/200\n",
      "2/2 [==============================] - 0s 5ms/step - loss: 14.2922 - mae: 14.2922\n",
      "Epoch 196/200\n",
      "2/2 [==============================] - 0s 4ms/step - loss: 14.2862 - mae: 14.2862\n",
      "Epoch 197/200\n",
      "2/2 [==============================] - 0s 5ms/step - loss: 14.2779 - mae: 14.2779\n",
      "Epoch 198/200\n",
      "2/2 [==============================] - 0s 5ms/step - loss: 14.2703 - mae: 14.2703\n",
      "Epoch 199/200\n",
      "2/2 [==============================] - 0s 4ms/step - loss: 14.2585 - mae: 14.2585\n",
      "Epoch 200/200\n",
      "2/2 [==============================] - 0s 33ms/step - loss: 14.2522 - mae: 14.2522 - val_loss: 15.4526 - val_mae: 15.4526\n"
     ]
    },
    {
     "data": {
      "text/plain": [
       "<keras.callbacks.History at 0x7f79b466e640>"
      ]
     },
     "execution_count": 6,
     "metadata": {},
     "output_type": "execute_result"
    }
   ],
   "source": [
    "DQL.fit(np.array(x_train), np.array(y_train),\n",
    "        batch_size = 64, #每一批batch的大小为32，\n",
    "        epochs = 200, #迭代次数epochs为500\n",
    "        validation_split = 0.2, #从数据集中划分20%给测试集\n",
    "        validation_freq = 20)"
   ]
  }
 ],
 "metadata": {
  "kernelspec": {
   "display_name": "base",
   "language": "python",
   "name": "python3"
  },
  "language_info": {
   "codemirror_mode": {
    "name": "ipython",
    "version": 3
   },
   "file_extension": ".py",
   "mimetype": "text/x-python",
   "name": "python",
   "nbconvert_exporter": "python",
   "pygments_lexer": "ipython3",
   "version": "3.8.10"
  },
  "orig_nbformat": 4,
  "vscode": {
   "interpreter": {
    "hash": "84ac1aa0e324239271716ea4bc0f1972974f6d8d50c2a2c3470023e155096e31"
   }
  }
 },
 "nbformat": 4,
 "nbformat_minor": 2
}
